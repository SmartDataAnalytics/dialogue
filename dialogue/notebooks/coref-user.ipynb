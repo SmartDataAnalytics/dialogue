{
 "cells": [
  {
   "cell_type": "code",
   "execution_count": 61,
   "metadata": {},
   "outputs": [],
   "source": [
    "import json\n",
    "import requests\n",
    "import pprint"
   ]
  },
  {
   "cell_type": "markdown",
   "metadata": {},
   "source": [
    "1. create context (dialogue history)"
   ]
  },
  {
   "cell_type": "code",
   "execution_count": 72,
   "metadata": {},
   "outputs": [],
   "source": [
    "context = \\\n",
    "\"\"\"We are at the leaning tower of Pisa. \n",
    "Who built it? \n",
    "Giuseppe Napolitano built this tower. \n",
    "When was it built? \n",
    "In the nineteenth century. \n",
    "Who was he married to?\n",
    "He was married to Isabella d'Aglio.\n",
    "\"\"\""
   ]
  },
  {
   "cell_type": "markdown",
   "metadata": {},
   "source": [
    "2. create entities"
   ]
  },
  {
   "cell_type": "code",
   "execution_count": 73,
   "metadata": {},
   "outputs": [],
   "source": [
    "poi_start = context.find(\"the leaning tower of Pisa\")\n",
    "poi_end = poi_start + len(\"the leaning tower of Pisa\")\n",
    "builder_start = context.find(\"Giuseppe Napolitano\")\n",
    "builder_end = builder_start + len(\"Giuseppe Napolitano\")\n",
    "\n",
    "entities = {\n",
    "    \"$POI\": {\"span\": [poi_start, poi_end], \"type\": \"building\"},\n",
    "    \"$BUILDER\": {\"span\": [builder_start, builder_end]}\n",
    "}"
   ]
  },
  {
   "cell_type": "markdown",
   "metadata": {},
   "source": [
    "3. create question"
   ]
  },
  {
   "cell_type": "code",
   "execution_count": 74,
   "metadata": {},
   "outputs": [],
   "source": [
    "sentence = \"When was it built?\""
   ]
  },
  {
   "cell_type": "markdown",
   "metadata": {},
   "source": [
    "4. create request and execute"
   ]
  },
  {
   "cell_type": "code",
   "execution_count": 75,
   "metadata": {},
   "outputs": [],
   "source": [
    "data = {\"context\": context,\n",
    "        \"entities\": entities,\n",
    "        \"sentence\": sentence}\n",
    "data_json = json.dumps(data)\n",
    "\n",
    "payload = {\"data\": data_json}\n",
    "r = requests.get(\"http://localhost:6007/entitygetcoref\", params=payload)\n"
   ]
  },
  {
   "cell_type": "code",
   "execution_count": 76,
   "metadata": {},
   "outputs": [
    {
     "name": "stdout",
     "output_type": "stream",
     "text": [
      "{  'context': 'We are at the leaning tower of Pisa. \\n'\n",
      "              'Who built it? \\n'\n",
      "              'Giuseppe Napolitano built this tower. \\n'\n",
      "              'When was it built? \\n'\n",
      "              'In the nineteenth century. \\n'\n",
      "              'Who was he married to?\\n'\n",
      "              \"He was married to Isabella d'Aglio.\\n\",\n",
      "   'references': [  {  'from': {'end_char': 11, 'start_char': 9, 'text': 'it'},\n",
      "                       'to': '$POI'}],\n",
      "   'resolved_sentence': 'When was the leaning tower of Pisa built?',\n",
      "   'sentence': 'When was it built?'}\n"
     ]
    }
   ],
   "source": [
    "pp = pprint.PrettyPrinter(indent=3)\n",
    "pp.pprint(json.loads(r.text))"
   ]
  },
  {
   "cell_type": "markdown",
   "metadata": {},
   "source": [
    "### Return format:\n",
    "* \"context\": is original context string\n",
    "* \"sentence\": is original sentence string\n",
    "* \"resolved_sentence\": is sentence where referring expression is replaced by its target. If resolved by neural-coref, replaces referring expression with its target. If resolved by manual POI rules, replaces referring expression with \"$POI\"\n",
    "* \"references\": list of dictionaries with source \"from\" and target \"to\"\n",
    "    *  \"from\": from which span in \"sentence\" the reference goes\n",
    "        * \"text\": string of referring expression\n",
    "        * \"start_char\": start of span in \"sentence\", character index\n",
    "        * \"end_char\": end of span in \"sentence\", character index\n",
    "    * \"to\": to which span in \"context\" or to which entity from \"entities\" GET request data the reference goes. Return can be a string, in which case an entity name from the \"entities\" GET request argument is used. Otherwise, follows span specification:\n",
    "        * \"text\": string of target expression\n",
    "        * \"start_char\": start of span in \"context\", character index\n",
    "        * \"end_char\": end of span in \"context\", character index"
   ]
  },
  {
   "cell_type": "markdown",
   "metadata": {},
   "source": [
    "(in a function:)"
   ]
  },
  {
   "cell_type": "code",
   "execution_count": 77,
   "metadata": {},
   "outputs": [],
   "source": [
    "def do_question(sentence):\n",
    "    data = {\"context\": context,\n",
    "            \"entities\": entities,\n",
    "            \"sentence\": sentence}\n",
    "    data_json = json.dumps(data)\n",
    "\n",
    "    payload = {\"data\": data_json}\n",
    "    r = requests.get(\"http://localhost:6007/entitygetcoref\", params=payload)\n",
    "    return json.loads(r.text)"
   ]
  },
  {
   "cell_type": "code",
   "execution_count": 78,
   "metadata": {},
   "outputs": [
    {
     "name": "stdout",
     "output_type": "stream",
     "text": [
      "{  'context': 'We are at the leaning tower of Pisa. \\n'\n",
      "              'Who built it? \\n'\n",
      "              'Giuseppe Napolitano built this tower. \\n'\n",
      "              'When was it built? \\n'\n",
      "              'In the nineteenth century. \\n'\n",
      "              'Who was he married to?\\n'\n",
      "              \"He was married to Isabella d'Aglio.\\n\",\n",
      "   'references': [  {  'from': {'end_char': 11, 'start_char': 9, 'text': 'he'},\n",
      "                       'to': '$BUILDER'}],\n",
      "   'resolved_sentence': 'When was Giuseppe Napolitano born?',\n",
      "   'sentence': 'When was he born?'}\n"
     ]
    }
   ],
   "source": [
    "pp.pprint(do_question(\"When was he born?\"))"
   ]
  },
  {
   "cell_type": "code",
   "execution_count": 79,
   "metadata": {},
   "outputs": [
    {
     "name": "stdout",
     "output_type": "stream",
     "text": [
      "{  'context': 'We are at the leaning tower of Pisa. \\n'\n",
      "              'Who built it? \\n'\n",
      "              'Giuseppe Napolitano built this tower. \\n'\n",
      "              'When was it built? \\n'\n",
      "              'In the nineteenth century. \\n'\n",
      "              'Who was he married to?\\n'\n",
      "              \"He was married to Isabella d'Aglio.\\n\",\n",
      "   'references': [  {  'from': {'end_char': 11, 'start_char': 8, 'text': 'his'},\n",
      "                       'to': '$BUILDER'}],\n",
      "   'resolved_sentence': 'Who was Giuseppe Napolitano wife?',\n",
      "   'sentence': 'Who was his wife?'}\n"
     ]
    }
   ],
   "source": [
    "pp.pprint(do_question(\"Who was his wife?\"))"
   ]
  },
  {
   "cell_type": "code",
   "execution_count": 80,
   "metadata": {},
   "outputs": [
    {
     "name": "stdout",
     "output_type": "stream",
     "text": [
      "{  'context': 'We are at the leaning tower of Pisa. \\n'\n",
      "              'Who built it? \\n'\n",
      "              'Giuseppe Napolitano built this tower. \\n'\n",
      "              'When was it built? \\n'\n",
      "              'In the nineteenth century. \\n'\n",
      "              'Who was he married to?\\n'\n",
      "              \"He was married to Isabella d'Aglio.\\n\",\n",
      "   'references': [  {  'from': {'end_char': 12, 'start_char': 9, 'text': 'she'},\n",
      "                       'to': '$BUILDER'}],\n",
      "   'resolved_sentence': 'What did Giuseppe Napolitano do',\n",
      "   'sentence': 'What did she do'}\n"
     ]
    }
   ],
   "source": [
    "pp.pprint(do_question(\"What did she do\"))"
   ]
  },
  {
   "cell_type": "code",
   "execution_count": 85,
   "metadata": {},
   "outputs": [
    {
     "name": "stdout",
     "output_type": "stream",
     "text": [
      "{  'context': 'We are at the leaning tower of Pisa. \\n'\n",
      "              'Who built it? \\n'\n",
      "              'Giuseppe Napolitano built this tower. \\n'\n",
      "              'When was it built? \\n'\n",
      "              'In the nineteenth century. \\n'\n",
      "              'Who was he married to?\\n'\n",
      "              \"He was married to Isabella d'Aglio.\\n\",\n",
      "   'references': [  {  'from': {  'end_char': 17,\n",
      "                                  'start_char': 13,\n",
      "                                  'text': 'this'},\n",
      "                       'to': '$POI'}],\n",
      "   'resolved_sentence': 'Who designed $POI?',\n",
      "   'sentence': 'Who designed this?'}\n"
     ]
    }
   ],
   "source": [
    "pp.pprint(do_question(\"Who designed this?\"))"
   ]
  },
  {
   "cell_type": "code",
   "execution_count": 86,
   "metadata": {},
   "outputs": [
    {
     "name": "stdout",
     "output_type": "stream",
     "text": [
      "{  'context': 'We are at the leaning tower of Pisa. \\n'\n",
      "              'Who built it? \\n'\n",
      "              'Giuseppe Napolitano built this tower. \\n'\n",
      "              'When was it built? \\n'\n",
      "              'In the nineteenth century. \\n'\n",
      "              'Who was he married to?\\n'\n",
      "              \"He was married to Isabella d'Aglio.\\n\",\n",
      "   'references': [  {  'from': {  'end_char': 23,\n",
      "                                  'start_char': 13,\n",
      "                                  'text': 'this tower'},\n",
      "                       'to': '$POI'}],\n",
      "   'resolved_sentence': 'Who designed the leaning tower of Pisa?',\n",
      "   'sentence': 'Who designed this tower?'}\n"
     ]
    }
   ],
   "source": [
    "pp.pprint(do_question(\"Who designed this tower?\"))"
   ]
  },
  {
   "cell_type": "code",
   "execution_count": null,
   "metadata": {},
   "outputs": [],
   "source": []
  }
 ],
 "metadata": {
  "kernelspec": {
   "display_name": "Python 3",
   "language": "python",
   "name": "python3"
  },
  "language_info": {
   "codemirror_mode": {
    "name": "ipython",
    "version": 3
   },
   "file_extension": ".py",
   "mimetype": "text/x-python",
   "name": "python",
   "nbconvert_exporter": "python",
   "pygments_lexer": "ipython3",
   "version": "3.6.6"
  }
 },
 "nbformat": 4,
 "nbformat_minor": 2
}
